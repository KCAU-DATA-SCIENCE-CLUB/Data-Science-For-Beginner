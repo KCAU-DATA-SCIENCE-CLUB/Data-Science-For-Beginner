{
 "cells": [
  {
   "cell_type": "code",
   "execution_count": null,
   "metadata": {},
   "outputs": [],
   "source": [
    "# Show describe and identify extreme value\n",
    "print(raw.describe(include='all'))\n",
    "print('\\nCleaned data:')\n",
    "print(clean)"
   ]
  },
  {
   "cell_type": "markdown",
   "metadata": {},
   "source": [
    "## Outliers: detection and handling\n",
    "\n",
    "Show a quick numeric outlier (e.g., age 999) and explain when to keep vs fix."
   ]
  },
  {
   "cell_type": "code",
   "execution_count": null,
   "metadata": {},
   "outputs": [],
   "source": [
    "# Replace country codes/typos\n",
    "raw['Country'] = raw['Country'].replace({'KE':'Kenya','Kenia':'Kenya'})\n",
    "# Fill missing ages with median (simple strategy)\n",
    "raw['Age'] = raw['Age'].replace(999, pd.NA)\n",
    "raw['Age'] = raw['Age'].fillna(int(raw['Age'].median()))\n",
    "# Drop duplicates\n",
    "clean = raw.drop_duplicates()\n",
    "clean"
   ]
  },
  {
   "cell_type": "markdown",
   "metadata": {},
   "source": [
    "## Fixing values: dropna, fillna, drop_duplicates, replace\n",
    "\n",
    "We'll apply common pandas cleaning functions step-by-step and explain reasoning."
   ]
  },
  {
   "cell_type": "code",
   "execution_count": null,
   "metadata": {},
   "outputs": [],
   "source": [
    "# Missing values\n",
    "print(raw.isnull().sum())\n",
    "\n",
    "# Duplicates\n",
    "print('\\nDuplicates:')\n",
    "print(raw.duplicated())"
   ]
  },
  {
   "cell_type": "markdown",
   "metadata": {},
   "source": [
    "## Detect missing values & duplicates\n",
    "\n",
    "Use `.isnull()` and `.duplicated()` to spot problems."
   ]
  },
  {
   "cell_type": "code",
   "execution_count": null,
   "metadata": {},
   "outputs": [],
   "source": [
    "import pandas as pd\n",
    "\n",
    "# Messy example dataset\n",
    "raw = pd.DataFrame({\n",
    "    'Name': ['Alice','Bob','Bob','Cara'],\n",
    "    'Age': [25, None, None, 999],\n",
    "    'Country': ['Kenya','KE','KE','Kenia']\n",
    "})\n",
    "raw"
   ]
  },
  {
   "cell_type": "markdown",
   "metadata": {},
   "source": [
    "# Lesson: Cleaning Data\n",
    "\n",
    "This notebook walks through common cleaning tasks: missing values, duplicates, typos, and outliers. We'll use a small 'messy' example and apply pandas functions step-by-step."
   ]
  }
 ],
 "metadata": {
  "kernelspec": {
   "display_name": "Python 3",
   "language": "python",
   "name": "python3"
  },
  "language_info": {
   "name": "python",
   "version": "3.8.0"
  }
 },
 "nbformat": 4,
 "nbformat_minor": 4
}

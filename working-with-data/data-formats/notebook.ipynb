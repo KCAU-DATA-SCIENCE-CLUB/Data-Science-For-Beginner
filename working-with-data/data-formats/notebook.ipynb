{
 "cells": [
  {
   "cell_type": "markdown",
   "metadata": {},
   "source": [
    "## Summary & tools\n",
    "\n",
    "- Structured → `pandas`/CSV/SQL\\n- Semi-structured → `json` + `pd.json_normalize`\\n- Unstructured → text/images (NLP/CV).\\n\n",
    "Next: move to data cleaning to prepare messy real-world data for exploration."
   ]
  },
  {
   "cell_type": "code",
   "execution_count": null,
   "metadata": {},
   "outputs": [],
   "source": [
    "text = \"I love data science. Data is fun and useful.\"\n",
    "words = text.lower().replace('.', '').split()\n",
    "from collections import Counter\n",
    "Counter(words)"
   ]
  },
  {
   "cell_type": "markdown",
   "metadata": {},
   "source": [
    "## 3) Unstructured data (text)\n",
    "\n",
    "We'll load a short free-text string and show how to count words — the first step in NLP."
   ]
  },
  {
   "cell_type": "code",
   "execution_count": null,
   "metadata": {},
   "outputs": [],
   "source": [
    "import json\n",
    "\n",
    "json_str = '''{ \"students\": [ {\"id\":101, \"name\":\"Alice\"}, {\"id\":102, \"name\":\"Bob\"} ] }'''\n",
    "obj = json.loads(json_str)\n",
    "pd.json_normalize(obj, 'students')"
   ]
  },
  {
   "cell_type": "markdown",
   "metadata": {},
   "source": [
    "## 2) Semi-structured (JSON)\n",
    "\n",
    "Load a small JSON string and convert to a pandas DataFrame."
   ]
  },
  {
   "cell_type": "code",
   "execution_count": null,
   "metadata": {},
   "outputs": [],
   "source": [
    "import pandas as pd\n",
    "\n",
    "data = {'id': [1,2,3], 'name': ['Alice','Bob','Cara'], 'score': [88,92,79]}\n",
    "df = pd.DataFrame(data)\n",
    "df"
   ]
  },
  {
   "cell_type": "markdown",
   "metadata": {},
   "source": [
    "## 1) Structured data (CSV / Tables)\n",
    "\n",
    "We will create a small CSV-like table using pandas and perform a simple query."
   ]
  },
  {
   "cell_type": "markdown",
   "metadata": {},
   "source": [
    "# Lesson: Types of Data & Formats\n",
    "\n",
    "This notebook demonstrates structured, semi-structured, and unstructured data with short hands-on examples you can run and modify. The goal: understand what each type looks like and which tools are appropriate."
   ]
  }
 ],
 "metadata": {
  "kernelspec": {
   "display_name": "Python 3",
   "language": "python",
   "name": "python3"
  },
  "language_info": {
   "name": "python",
   "version": "3.8.0"
  }
 },
 "nbformat": 4,
 "nbformat_minor": 4
}

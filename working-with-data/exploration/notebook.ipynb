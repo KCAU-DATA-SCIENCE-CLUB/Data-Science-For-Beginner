{
 "cells": [
  {
   "cell_type": "code",
   "execution_count": null,
   "metadata": {},
   "outputs": [],
   "source": [
    "# Scatterplot\n",
    "sns.scatterplot(x='age', y='salary', data=df)\n",
    "plt.title('Age vs Salary')\n",
    "plt.show()\n",
    "\n",
    "# Correlation heatmap\n",
    "corr = df[['age','salary']].corr()\n",
    "sns.heatmap(corr, annot=True, cmap='coolwarm')\n",
    "plt.title('Correlation heatmap')\n",
    "plt.show()"
   ]
  },
  {
   "cell_type": "markdown",
   "metadata": {},
   "source": [
    "## Relationships: scatterplot & correlation heatmap"
   ]
  },
  {
   "cell_type": "code",
   "execution_count": null,
   "metadata": {},
   "outputs": [],
   "source": [
    "# Value counts\n",
    "print(df['gender'].value_counts())\n",
    "# Countplot\n",
    "sns.countplot(x='gender', data=df)\n",
    "plt.title('Gender distribution')\n",
    "plt.show()"
   ]
  },
  {
   "cell_type": "markdown",
   "metadata": {},
   "source": [
    "## Categorical variables\n",
    "\n",
    "Count categories and draw a countplot."
   ]
  },
  {
   "cell_type": "code",
   "execution_count": null,
   "metadata": {},
   "outputs": [],
   "source": [
    "# Histogram\n",
    "plt.hist(df['age'], bins=5)\n",
    "plt.title('Age distribution')\n",
    "plt.xlabel('Age')\n",
    "plt.show()\n",
    "\n",
    "# Boxplot\n",
    "sns.boxplot(x=df['salary'])\n",
    "plt.title('Salary boxplot')\n",
    "plt.show()"
   ]
  },
  {
   "cell_type": "markdown",
   "metadata": {},
   "source": [
    "## Distributions & boxplots\n",
    "\n",
    "Plot a histogram and boxplot to inspect distributions and detect outliers."
   ]
  },
  {
   "cell_type": "code",
   "execution_count": null,
   "metadata": {},
   "outputs": [],
   "source": [
    "df.describe()"
   ]
  },
  {
   "cell_type": "markdown",
   "metadata": {},
   "source": [
    "## Summary statistics\n",
    "\n",
    "Use `df.describe()` to get count, mean, std, min, max, and quartiles."
   ]
  },
  {
   "cell_type": "code",
   "execution_count": null,
   "metadata": {},
   "outputs": [],
   "source": [
    "import pandas as pd\n",
    "import matplotlib.pyplot as plt\n",
    "import seaborn as sns\n",
    "\n",
    "# use a small example dataset\n",
    " df = pd.DataFrame({'age':[23,45,31,52,40,37,29], 'salary':[30000, 60000, 40000, 80000, 50000, 52000, 38000], 'gender':['F','M','F','M','F','M','F']})\n",
    "df"
   ]
  },
  {
   "cell_type": "markdown",
   "metadata": {},
   "source": [
    "# Lesson: Data Exploration\n",
    "\n",
    "This notebook shows how to explore a cleaned dataset: summary statistics, distributions, categorical counts, scatterplots, and correlation heatmaps. We'll use pandas, matplotlib and seaborn."
   ]
  }
 ],
 "metadata": {
  "kernelspec": {
   "display_name": "Python 3",
   "language": "python",
   "name": "python3"
  },
  "language_info": {
   "name": "python",
   "version": "3.8.0"
  }
 },
 "nbformat": 4,
 "nbformat_minor": 4
}

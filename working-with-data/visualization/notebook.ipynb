{
 "cells": [
  {
   "cell_type": "markdown",
   "metadata": {},
   "source": [
    "## Tips & best practices\n",
    "\n",
    "- Always label axes and add titles.\n",
    "- Keep charts simple: one message per chart.\n",
    "- Save important charts to `assets/` for reuse."
   ]
  },
  {
   "cell_type": "code",
   "execution_count": null,
   "metadata": {},
   "outputs": [],
   "source": [
    "tips = sns.load_dataset('tips')\n",
    "# Histogram\n",
    "sns.histplot(tips['total_bill'], bins=20, kde=True)\n",
    "plt.title('Distribution of Total Bills')\n",
    "plt.show()\n",
    "\n",
    "# Scatterplot\n",
    "sns.scatterplot(data=tips, x='total_bill', y='tip', hue='time')\n",
    "plt.title('Bill vs Tip by Time')\n",
    "plt.show()"
   ]
  },
  {
   "cell_type": "markdown",
   "metadata": {},
   "source": [
    "## Seaborn examples: histogram & scatter with `tips` dataset"
   ]
  },
  {
   "cell_type": "code",
   "execution_count": null,
   "metadata": {},
   "outputs": [],
   "source": [
    "products = ['A','B','C']\n",
    "revenue = [300,450,150]\n",
    "plt.bar(products, revenue, color=['skyblue','orange','green'])\n",
    "plt.title('Product Revenue')\n",
    "plt.show()"
   ]
  },
  {
   "cell_type": "markdown",
   "metadata": {},
   "source": [
    "## Bar chart example\n",
    "\n",
    "Compare categories with a bar chart."
   ]
  },
  {
   "cell_type": "code",
   "execution_count": null,
   "metadata": {},
   "outputs": [],
   "source": [
    "import matplotlib.pyplot as plt\n",
    "import seaborn as sns\n",
    "\n",
    "# Line plot example\n",
    "years = [2018,2019,2020,2021,2022]\n",
    "sales = [100,120,150,130,170]\n",
    "plt.plot(years, sales, marker='o')\n",
    "plt.title('Sales Over Years')\n",
    "plt.xlabel('Year')\n",
    "plt.ylabel('Sales')\n",
    "plt.show()"
   ]
  },
  {
   "cell_type": "markdown",
   "metadata": {},
   "source": [
    "# Lesson: Data Visualization (Matplotlib & Seaborn)\n",
    "\n",
    "This notebook demonstrates basic plots: line plots, bar charts, histograms, and seaborn examples with small sample data. Each example includes a short explanation and a runnable cell."
   ]
  }
 ],
 "metadata": {
  "kernelspec": {
   "display_name": "Python 3",
   "language": "python",
   "name": "python3"
  },
  "language_info": {
   "name": "python",
   "version": "3.8.0"
  }
 },
 "nbformat": 4,
 "nbformat_minor": 4
}

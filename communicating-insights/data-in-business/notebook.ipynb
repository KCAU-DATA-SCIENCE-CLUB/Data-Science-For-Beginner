{
 "cells": [
  {
   "cell_type": "markdown",
   "metadata": {},
   "source": [
    "# Data in Business\n",
    "\n",
    "Short notebook demonstrating how to turn simple sales data into an insight: aggregate, plot, and write a one-line recommendation."
   ]
  },
  {
   "cell_type": "code",
   "execution_count": null,
   "metadata": {},
   "outputs": [],
   "source": [
    "import pandas as pd\n",
    "import matplotlib.pyplot as plt\n",
    "\n",
    "# create a tiny sales table\n",
    "sales = pd.DataFrame({\n",
    "    'region': ['North','South','East','West','North','South','East','West'],\n",
    "    'month': ['Jan','Jan','Jan','Jan','Feb','Feb','Feb','Feb'],\n",
    "    'revenue': [1200,900,700,800,1500,1100,900,950]\n",
    "})\n",
    "\n",
    "agg = sales.groupby('region')['revenue'].sum().reset_index()\n",
    "print(agg)\n",
    "\n",
    "plt.figure(figsize=(6,4))\n",
    "plt.bar(agg['region'], agg['revenue'], color=['#4c72b0','#dd8452','#55a868','#c44e52'])\n",
    "plt.title('Total revenue by region (sample)')\n",
    "plt.ylabel('Revenue')\n",
    "plt.show()\n",
    "\n",
    "print(\"One-line recommendation: Focus on growing sales in 'East' where revenue is lowest relatively; investigate channel/product fit.\")"
   ]
  }
 ],
 "metadata": {
  "kernelspec": {
   "display_name": "Python 3",
   "language": "python",
   "name": "python3"
  },
  "language_info": {
   "name": "python",
   "version": "3.8.0"
  }
 },
 "nbformat": 4,
 "nbformat_minor": 4
}

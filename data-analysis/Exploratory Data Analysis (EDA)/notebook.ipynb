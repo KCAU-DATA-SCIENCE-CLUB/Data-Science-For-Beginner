{
 "cells": [
  {
   "cell_type": "markdown",
   "id": "0afff3ab",
   "metadata": {},
   "source": [
    "# Exploratory Data Analysis (EDA)\n",
    "\n",
    "This notebook walks through common EDA steps using a small sample dataset of student study hours and grades."
   ]
  },
  {
   "cell_type": "code",
   "execution_count": null,
   "id": "c70d51f0",
   "metadata": {},
   "outputs": [],
   "source": [
    "import pandas as pd\n",
    "import numpy as np\n",
    "import matplotlib.pyplot as plt\n",
    "import seaborn as sns\n",
    "\n",
    "# Sample dataset\n",
    "df = pd.DataFrame({\n",
    "    'student_id': range(1,21),\n",
    "    'hours_studied': [1,2,3,2,5,6,7,8,5,4,3,6,7,8,2,1,9,10,4,5],\n",
    "    'grade': [55,60,65,63,72,75,78,85,70,68,66,80,82,88,62,58,90,92,69,74]\n",
    "})\n",
    "df.head()"
   ]
  },
  {
   "cell_type": "code",
   "execution_count": null,
   "id": "97f8eefb",
   "metadata": {},
   "outputs": [],
   "source": [
    "## Inspect structure & summary stats\n",
    "# Save the EDA sample dataset to CSV and read it back\n",
    "csv_path = 'eda_students_sample.csv'\n",
    "df.to_csv(csv_path, index=False)\n",
    "print('Saved', csv_path)\n",
    "pd.read_csv(csv_path).head()"
   ]
  },
  {
   "cell_type": "code",
   "execution_count": null,
   "id": "dad5cdcf",
   "metadata": {},
   "outputs": [],
   "source": [
    "df.info()\n",
    "df.describe()"
   ]
  },
  {
   "cell_type": "markdown",
   "id": "65bc0bbd",
   "metadata": {},
   "source": [
    "## Missing values & duplicates"
   ]
  },
  {
   "cell_type": "code",
   "execution_count": null,
   "id": "be16a919",
   "metadata": {},
   "outputs": [],
   "source": [
    "df.isnull().sum()\n",
    "df.duplicated().sum()"
   ]
  },
  {
   "cell_type": "markdown",
   "id": "77133bf7",
   "metadata": {},
   "source": [
    "## Univariate plots: histograms & boxplots"
   ]
  },
  {
   "cell_type": "code",
   "execution_count": null,
   "id": "2d398ccd",
   "metadata": {},
   "outputs": [],
   "source": [
    "plt.figure(figsize=(10,4))\n",
    "plt.subplot(1,2,1)\n",
    "sns.histplot(df['hours_studied'], bins=8)\n",
    "plt.title('Hours Studied')\n",
    "\n",
    "plt.subplot(1,2,2)\n",
    "sns.boxplot(x=df['grade'])\n",
    "plt.title('Grade Boxplot')\n",
    "plt.show()"
   ]
  },
  {
   "cell_type": "markdown",
   "id": "b0543c90",
   "metadata": {},
   "source": [
    "## Bivariate analysis: scatter (hours vs grade) and correlation"
   ]
  },
  {
   "cell_type": "code",
   "execution_count": null,
   "id": "e1fba5ce",
   "metadata": {},
   "outputs": [],
   "source": [
    "plt.figure(figsize=(6,4))\n",
    "sns.scatterplot(data=df, x='hours_studied', y='grade')\n",
    "sns.regplot(data=df, x='hours_studied', y='grade', scatter=False, color='red')\n",
    "plt.title('Hours Studied vs Grade')\n",
    "plt.show()\n",
    "\n",
    "# Correlation\n",
    "df[['hours_studied','grade']].corr()"
   ]
  },
  {
   "cell_type": "markdown",
   "id": "fcd67a0e",
   "metadata": {},
   "source": [
    "## Multivariate quick check: pairplot and heatmap"
   ]
  },
  {
   "cell_type": "code",
   "execution_count": null,
   "id": "48b1a942",
   "metadata": {},
   "outputs": [],
   "source": [
    "sns.pairplot(df[['hours_studied','grade']])\n",
    "plt.show()\n",
    "\n",
    "plt.figure(figsize=(4,3))\n",
    "sns.heatmap(df[['hours_studied','grade']].corr(), annot=True, cmap='coolwarm')\n",
    "plt.show()"
   ]
  },
  {
   "cell_type": "markdown",
   "id": "5c076580",
   "metadata": {},
   "source": [
    "## Next steps after EDA:\n",
    "* Form hypotheses (e.g., more study hours → higher grades)\n",
    "* Prepare features for modeling or deeper analysis\n",
    "* Segment students by performance groups for targeted interventions"
   ]
  }
 ],
 "metadata": {
  "language_info": {
   "name": "python"
  }
 },
 "nbformat": 4,
 "nbformat_minor": 5
}

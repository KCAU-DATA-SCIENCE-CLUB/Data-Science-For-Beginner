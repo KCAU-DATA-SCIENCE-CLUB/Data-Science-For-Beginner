{
 "cells": [
  {
   "cell_type": "markdown",
   "id": "6da1010e",
   "metadata": {},
   "source": [
    "# The Data Analysis Process\n",
    "\n",
    "This notebook demonstrates the 5-step data analysis pipeline (Collect → Clean → Explore → Analyze → Interpret) with a small simulated e-commerce dataset. Follow the cells to see each step in action."
   ]
  },
  {
   "cell_type": "markdown",
   "id": "31ad52ad",
   "metadata": {},
   "source": [
    "## 1) Collect — create a small example dataset"
   ]
  },
  {
   "cell_type": "code",
   "execution_count": null,
   "id": "a9e59ca8",
   "metadata": {},
   "outputs": [],
   "source": [
    "import pandas as pd\n",
    "import numpy as np\n",
    "\n",
    "# Simulate a small e-commerce dataset\n",
    "df = pd.DataFrame({\n",
    "    'order_id': range(1,13),\n",
    "    'customer_id': [101,102,103,101,104,105,106,107,108,106,109,110],\n",
    "    'order_value': [120.0, 35.5, 250.0, np.nan, 80.0, 15.0, 200.0, 40.0, 60.0, 195.0, 5.0, 99.0],\n",
    "    'discount_applied': [False, True, False, False, True, False, True, False, False, True, False, False],\n",
    "    'order_date': pd.to_datetime(['2021-01-03','2021-01-07','2021-01-12','2021-01-15','2021-01-20','2021-01-24','2021-01-30','2021-02-02','2021-02-07','2021-02-14','2021-02-20','2021-02-25'])\n",
    "})\n",
    "\n",
    "df.head()"
   ]
  },
  {
   "cell_type": "markdown",
   "id": "65b76eb3",
   "metadata": {},
   "source": [
    "## 2) Clean — handle missing values and inspect duplicates/outliers"
   ]
  },
  {
   "cell_type": "code",
   "execution_count": null,
   "id": "0d2cca0b",
   "metadata": {},
   "outputs": [],
   "source": [
    "# Check for missing values\n",
    "df.info()\n",
    "\n",
    "# Simple cleaning: fill missing order_value with median\n",
    "df['order_value'] = df['order_value'].fillna(df['order_value'].median())\n",
    "\n",
    "# Check duplicates by order_id\n",
    "df[df.duplicated(subset=['order_id'])]  # should be empty in this simulated data"
   ]
  },
  {
   "cell_type": "markdown",
   "id": "a7df5489",
   "metadata": {},
   "source": [
    "## 3) Explore — summary statistics and simple visual checks"
   ]
  },
  {
   "cell_type": "code",
   "execution_count": null,
   "id": "c0bcb516",
   "metadata": {},
   "outputs": [],
   "source": [
    "# Summary stats\n",
    "df.describe(include='all')"
   ]
  },
  {
   "cell_type": "code",
   "execution_count": null,
   "id": "823b38b8",
   "metadata": {},
   "outputs": [],
   "source": [
    "import matplotlib.pyplot as plt\n",
    "import seaborn as sns\n",
    "\n",
    "plt.figure(figsize=(8,4))\n",
    "sns.histplot(df['order_value'], bins=8, kde=False)\n",
    "plt.title('Distribution of Order Value')\n",
    "plt.xlabel('Order value')\n",
    "plt.show()"
   ]
  },
  {
   "cell_type": "markdown",
   "id": "3d02684b",
   "metadata": {},
   "source": [
    "## 4) Analyze — look for relationships (e.g., discount vs order value)"
   ]
  },
  {
   "cell_type": "code",
   "execution_count": null,
   "id": "d3f09fdd",
   "metadata": {},
   "outputs": [],
   "source": [
    "# Compare average order value when discount was applied vs not\n",
    "df.groupby('discount_applied')['order_value'].mean().reset_index()\n",
    "\n",
    "# Simple correlation (discount_applied as int)\n",
    "df['discount_int'] = df['discount_applied'].astype(int)\n",
    "df[['order_value','discount_int']].corr()"
   ]
  },
  {
   "cell_type": "markdown",
   "id": "673f213f",
   "metadata": {},
   "source": [
    "## 5) Interpret & Communicate — write a brief finding"
   ]
  },
  {
   "cell_type": "markdown",
   "id": "a33788de",
   "metadata": {},
   "source": [
    "**Example interpretation:** In this small sample, average order value when a discount was applied is lower/higher (see numbers above). This suggests discounts may be used for lower-value purchases, or that offering discounts increases transaction volume but decreases average order value — further analysis with more data is required.\n",
    "\n",
    "**Next steps:** run statistical tests on a larger dataset, segment by customer cohorts, and measure conversion/retention impact."
   ]
  },
  {
   "cell_type": "code",
   "execution_count": null,
   "id": "0f8b46eb",
   "metadata": {},
   "outputs": [],
   "source": [
    "# Save the sample dataset to CSV and read it back (example)\n",
    "csv_path = 'the_data_analysis_process_sample.csv'\n",
    "df.to_csv(csv_path, index=False)\n",
    "print('Saved CSV ->', csv_path)\n",
    "# Read back and parse dates\n",
    "df_loaded = pd.read_csv(csv_path, parse_dates=['order_date'])\n",
    "df_loaded.head()"
   ]
  }
 ],
 "metadata": {
  "language_info": {
   "name": "python"
  }
 },
 "nbformat": 4,
 "nbformat_minor": 5
}

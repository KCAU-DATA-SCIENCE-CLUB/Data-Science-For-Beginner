{
 "cells": [
  {
   "cell_type": "markdown",
   "id": "3c96f081",
   "metadata": {},
   "source": [
    "# Types of Data & Formats\n",
    "\n",
    "This notebook gives hands-on examples of structured, semi-structured, and unstructured data and shows how to load or inspect common formats (CSV, JSON). We'll also demonstrate nominal vs ordinal handling in pandas."
   ]
  },
  {
   "cell_type": "markdown",
   "id": "46d96ffe",
   "metadata": {},
   "source": [
    "## Working with CSV (structured data)"
   ]
  },
  {
   "cell_type": "code",
   "execution_count": null,
   "id": "76690d3b",
   "metadata": {},
   "outputs": [],
   "source": [
    "import pandas as pd\n",
    "\n",
    "# Create a small CSV-like DataFrame and show reading/writing behavior\n",
    "people = pd.DataFrame({\n",
    "    'name': ['Alice','Bob','Charlie','Diana'],\n",
    "    'age': [25, 32, 37, 29],\n",
    "    'city': ['NY','LA','NY','SF']\n",
    "})\n",
    "people"
   ]
  },
  {
   "cell_type": "markdown",
   "id": "834a64ae",
   "metadata": {},
   "source": [
    "## Working with JSON (semi-structured)"
   ]
  },
  {
   "cell_type": "code",
   "execution_count": null,
   "id": "2f787631",
   "metadata": {},
   "outputs": [],
   "source": [
    "import json\n",
    "\n",
    "# Example semi-structured JSON payload (list of orders with nested items)\n",
    "data = [\n",
    "    {'order_id':1, 'customer':'Alice', 'items':[{'sku':'A1','qty':2},{'sku':'B2','qty':1}]},\n",
    "    {'order_id':2, 'customer':'Bob', 'items':[{'sku':'C3','qty':1}]},\n",
    "]\n",
    "\n",
    "# Normalize nested JSON into a flat table\n",
    "orders = pd.json_normalize(data, record_path=['items'], meta=['order_id','customer'])\n",
    "orders"
   ]
  },
  {
   "cell_type": "markdown",
   "id": "73e5444e",
   "metadata": {},
   "source": [
    "## Nominal vs Ordinal (categorical handling)"
   ]
  },
  {
   "cell_type": "code",
   "execution_count": null,
   "id": "9d34b9a4",
   "metadata": {},
   "outputs": [],
   "source": [
    "# Nominal example: city (no natural order)\n",
    "people['city_cat'] = people['city'].astype('category')\n",
    "people['city_cat'].cat.categories\n",
    "\n",
    "# Ordinal example: size with order small<medium<large\n",
    "size_df = pd.DataFrame({'size':['small','medium','large','medium']})\n",
    "size_type = pd.CategoricalDtype(categories=['small','medium','large'], ordered=True)\n",
    "size_df['size_ord'] = size_df['size'].astype(size_type)\n",
    "size_df.sort_values('size_ord')"
   ]
  },
  {
   "cell_type": "markdown",
   "id": "6d485583",
   "metadata": {},
   "source": [
    "## Notes on Unstructured Data\n",
    "Unstructured data (images, text, audio) require specialized processing. For text, use tokenization and NLP libraries; for images, use computer vision libraries. In later lessons we'll handle examples."
   ]
  },
  {
   "cell_type": "code",
   "execution_count": null,
   "id": "8d3e5366",
   "metadata": {},
   "outputs": [],
   "source": [
    "# Demonstrate writing the 'people' table to CSV and reading it back\n",
    "csv_file = 'types_of_data_people.csv'\n",
    "people.to_csv(csv_file, index=False)\n",
    "print('Wrote', csv_file)\n",
    "pd.read_csv(csv_file).head()"
   ]
  }
 ],
 "metadata": {
  "language_info": {
   "name": "python"
  }
 },
 "nbformat": 4,
 "nbformat_minor": 5
}

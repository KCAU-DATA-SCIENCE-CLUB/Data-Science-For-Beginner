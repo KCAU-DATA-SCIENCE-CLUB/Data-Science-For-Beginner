{
 "cells": [
  {
   "cell_type": "code",
   "execution_count": null,
   "id": "5e5ec26d",
   "metadata": {},
   "outputs": [],
   "source": [
    "df.describe()\n",
    "\n",
    "# Plot sales\n",
    "import matplotlib.pyplot as plt\n",
    "plt.plot(df['month'], df['sales'], marker='o')\n",
    "plt.title('Sales by month')\n",
    "plt.show()"
   ]
  },
  {
   "cell_type": "markdown",
   "id": "a8ab5b36",
   "metadata": {},
   "source": [
    "## Quick descriptive stats\n",
    "\n",
    "Use `.describe()` and basic plotting to summarize the sales data."
   ]
  },
  {
   "cell_type": "code",
   "execution_count": null,
   "id": "fdd87f1c",
   "metadata": {},
   "outputs": [],
   "source": [
    "import pandas as pd\n",
    "\n",
    "# Tiny sales example (descriptive)\n",
    "df = pd.DataFrame({'month':['Jan','Feb','Mar','Apr'],'sales':[100,120,90,130]})\n",
    "df\n"
   ]
  },
  {
   "cell_type": "markdown",
   "id": "e90f9cc6",
   "metadata": {},
   "source": [
    "## Types of analysis\n",
    "\n",
    "- Descriptive: what happened?\n",
    "- Diagnostic: why did it happen?\n",
    "- Predictive: what will happen?\n",
    "- Prescriptive: what should we do?"
   ]
  },
  {
   "cell_type": "markdown",
   "id": "f03712b2",
   "metadata": {},
   "source": [
    "# What is Data Analysis?\n",
    "\n",
    "This notebook summarizes what data analysis is, the main types (descriptive, diagnostic, predictive, prescriptive), and shows a tiny example to demonstrate descriptive and diagnostic steps."
   ]
  }
 ],
 "metadata": {
  "language_info": {
   "name": "python"
  }
 },
 "nbformat": 4,
 "nbformat_minor": 5
}

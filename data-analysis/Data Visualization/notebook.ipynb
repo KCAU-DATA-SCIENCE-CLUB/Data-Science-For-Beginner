{
 "cells": [
  {
   "cell_type": "markdown",
   "id": "c5caa404",
   "metadata": {},
   "source": [
    "# Data Visualization\n",
    "\n",
    "Examples of common charts (bar, histogram, boxplot, scatter, line) using Matplotlib and Seaborn."
   ]
  },
  {
   "cell_type": "code",
   "execution_count": null,
   "id": "2161a11f",
   "metadata": {},
   "outputs": [],
   "source": [
    "import pandas as pd\n",
    "import matplotlib.pyplot as plt\n",
    "import seaborn as sns\n",
    "\n",
    "# Bar chart example: sales by region\n",
    "sales = pd.DataFrame({'region':['North','South','East','West'], 'sales':[150,200,90,120]})\n",
    "plt.figure(figsize=(6,4))\n",
    "sns.barplot(data=sales, x='region', y='sales', palette='muted')\n",
    "plt.title('Sales by Region')\n",
    "plt.show()"
   ]
  },
  {
   "cell_type": "markdown",
   "id": "64aa1200",
   "metadata": {},
   "source": [
    "## Histogram & Boxplot — distribution and outliers"
   ]
  },
  {
   "cell_type": "code",
   "execution_count": null,
   "id": "115ac9b2",
   "metadata": {},
   "outputs": [],
   "source": [
    "import numpy as np\n",
    "data = np.concatenate([np.random.normal(50,10,100), np.array([200,250])])  # add outliers\n",
    "plt.figure(figsize=(10,4))\n",
    "plt.subplot(1,2,1)\n",
    "sns.histplot(data, bins=15)\n",
    "plt.title('Histogram')\n",
    "plt.subplot(1,2,2)\n",
    "sns.boxplot(x=data)\n",
    "plt.title('Boxplot')\n",
    "plt.show()"
   ]
  },
  {
   "cell_type": "markdown",
   "id": "458a6363",
   "metadata": {},
   "source": [
    "## Scatterplot — relationship between two variables"
   ]
  },
  {
   "cell_type": "code",
   "execution_count": null,
   "id": "672f012d",
   "metadata": {},
   "outputs": [],
   "source": [
    "# Reuse the student dataset from EDA example\n",
    "df = pd.DataFrame({\n",
    "    'hours_studied': [1,2,3,2,5,6,7,8,5,4,3,6,7,8,2,1,9,10,4,5],\n",
    "    'grade': [55,60,65,63,72,75,78,85,70,68,66,80,82,88,62,58,90,92,69,74]\n",
    "})\n",
    "plt.figure(figsize=(6,4))\n",
    "sns.scatterplot(data=df, x='hours_studied', y='grade')\n",
    "sns.regplot(data=df, x='hours_studied', y='grade', scatter=False, color='red')\n",
    "plt.title('Hours Studied vs Grade')\n",
    "plt.show()"
   ]
  },
  {
   "cell_type": "markdown",
   "id": "8f628ef3",
   "metadata": {},
   "source": [
    "## Line chart — trend over time\n",
    "Create a small time series and plot a line chart to show trend."
   ]
  },
  {
   "cell_type": "code",
   "execution_count": null,
   "id": "e3bb7cef",
   "metadata": {},
   "outputs": [],
   "source": [
    "dates = pd.date_range(start='2021-01-01', periods=12, freq='M')\n",
    "vals = [120,135,150,160,155,170,180,175,190,200,210,220]\n",
    "ts = pd.Series(vals, index=dates)\n",
    "plt.figure(figsize=(8,3))\n",
    "ts.plot(marker='o')\n",
    "plt.title('Monthly Metric')\n",
    "plt.ylabel('Value')\n",
    "plt.show()"
   ]
  },
  {
   "cell_type": "code",
   "execution_count": null,
   "id": "63e39a77",
   "metadata": {},
   "outputs": [],
   "source": [
    "# Save a small time-series to CSV and read it back\n",
    "csv_path = 'viz_monthly_metric.csv'\n",
    "ts.reset_index().rename(columns={'index':'date',0:'value'}).to_csv(csv_path, index=False)\n",
    "print('Wrote', csv_path)\n",
    "pd.read_csv(csv_path).head()"
   ]
  }
 ],
 "metadata": {
  "language_info": {
   "name": "python"
  }
 },
 "nbformat": 4,
 "nbformat_minor": 5
}

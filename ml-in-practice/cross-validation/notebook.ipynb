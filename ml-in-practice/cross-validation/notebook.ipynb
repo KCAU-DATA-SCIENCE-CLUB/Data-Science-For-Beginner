{
 "cells": [
  {
   "cell_type": "markdown",
   "metadata": {},
   "source": [
    "# Cross-Validation\n",
    "\n",
    "Demonstrate K-Fold cross-validation and a GridSearch for a Ridge regression alpha parameter."
   ]
  },
  {
   "cell_type": "code",
   "execution_count": null,
   "metadata": {},
   "outputs": [],
   "source": [
    "from sklearn.model_selection import KFold, cross_val_score, GridSearchCV\n",
    "from sklearn.linear_model import Ridge\n",
    "from sklearn.datasets import make_regression\n",
    "import numpy as np\n",
    "np.random.seed(0)"
   ]
  },
  {
   "cell_type": "code",
   "execution_count": null,
   "metadata": {},
   "outputs": [],
   "source": [
    "# Create synthetic regression data\n",
    "X, y = make_regression(n_samples=200, n_features=10, noise=10.0, random_state=1)\n",
    "kf = KFold(n_splits=5, shuffle=True, random_state=1)\n",
    "scores = cross_val_score(Ridge(alpha=1.0), X, y, cv=kf, scoring='neg_mean_squared_error')\n",
    "print('5-fold CV MSE (neg):', scores)\n",
    "print('Mean MSE:', np.mean(scores))"
   ]
  },
  {
   "cell_type": "code",
   "execution_count": null,
   "metadata": {},
   "outputs": [],
   "source": [
    "# Grid search over alpha for Ridge\n",
    "param_grid = {'alpha': [0.01, 0.1, 1.0, 10.0]}\n",
    "grid = GridSearchCV(Ridge(), param_grid, scoring='neg_mean_squared_error', cv=5)\n",
    "grid.fit(X, y)\n",
    "print('Best params:', grid.best_params_)\n",
    "print('Best CV score (neg MSE):', grid.best_score_)"
   ]
  },
  {
   "cell_type": "markdown",
   "metadata": {},
   "source": [
    "## Notes\n",
    "- Use cross-validation to estimate generalization performance.\n",
    "- GridSearchCV performs CV internally and finds best hyperparameters."
   ]
  }
 ],
 "metadata": {
  "kernelspec": {
   "display_name": "Python 3",
   "language": "python",
   "name": "python3"
  },
  "language_info": {
   "name": "python",
   "version": "3.8.0"
  }
 },
 "nbformat": 4,
 "nbformat_minor": 4
}

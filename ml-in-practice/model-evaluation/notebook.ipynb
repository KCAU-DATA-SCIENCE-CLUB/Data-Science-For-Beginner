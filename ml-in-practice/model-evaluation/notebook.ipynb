{
 "cells": [
  {
   "cell_type": "markdown",
   "metadata": {},
   "source": [
    "# Model Evaluation\n",
    "\n",
    "Overview of common metrics for regression and classification with small examples you can run and inspect."
   ]
  },
  {
   "cell_type": "code",
   "execution_count": null,
   "metadata": {},
   "outputs": [],
   "source": [
    "# Regression metrics example\n",
    "import numpy as np\n",
    "from sklearn.datasets import make_regression, make_classification\n",
    "from sklearn.linear_model import LinearRegression, LogisticRegression\n",
    "from sklearn.metrics import mean_absolute_error, mean_squared_error, r2_score\n",
    "from sklearn.metrics import accuracy_score, precision_score, recall_score, f1_score, confusion_matrix, classification_report\n",
    "np.random.seed(0)"
   ]
  },
  {
   "cell_type": "code",
   "execution_count": null,
   "metadata": {},
   "outputs": [],
   "source": [
    "# Regression quick demo\n",
    "X, y = make_regression(n_samples=200, n_features=3, noise=10.0, random_state=1)\n",
    "model = LinearRegression().fit(X, y)\n",
    "preds = model.predict(X)\n",
    "print('MAE:', mean_absolute_error(y, preds))\n",
    "print('MSE:', mean_squared_error(y, preds))\n",
    "print('R2:', r2_score(y, preds))"
   ]
  },
  {
   "cell_type": "code",
   "execution_count": null,
   "metadata": {},
   "outputs": [],
   "source": [
    "# Classification quick demo\n",
    "Xc, yc = make_classification(n_samples=200, n_features=4, n_informative=3, n_redundant=0, random_state=2)\n",
    "clf = LogisticRegression(max_iter=200).fit(Xc, yc)\n",
    "preds_c = clf.predict(Xc)\n",
    "print('Accuracy:', accuracy_score(yc, preds_c))\n",
    "print('Precision:', precision_score(yc, preds_c))\n",
    "print('Recall:', recall_score(yc, preds_c))\n",
    "print('F1:', f1_score(yc, preds_c))\n",
    "print('\\nConfusion matrix:\\n', confusion_matrix(yc, preds_c))\n",
    "print('\\nClassification report:\\n', classification_report(yc, preds_c))"
   ]
  },
  {
   "cell_type": "markdown",
   "metadata": {},
   "source": [
    "## Notes\n",
    "- Use multiple metrics to get a full picture (e.g., accuracy + precision + recall).\n",
    "- For regression prefer MAE/MSE and R² depending on interpretability needs.\n",
    "- In real projects evaluate on hold-out/test sets or via cross-validation."
   ]
  }
 ],
 "metadata": {
  "kernelspec": {
   "display_name": "Python 3",
   "language": "python",
   "name": "python3"
  },
  "language_info": {
   "name": "python",
   "version": "3.8.0"
  }
 },
 "nbformat": 4,
 "nbformat_minor": 4
}

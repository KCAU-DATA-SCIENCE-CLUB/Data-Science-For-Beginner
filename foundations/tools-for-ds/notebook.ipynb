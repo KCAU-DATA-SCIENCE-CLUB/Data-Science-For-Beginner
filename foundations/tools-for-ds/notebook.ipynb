{
 "cells": [
  {
   "cell_type": "markdown",
   "metadata": {},
   "source": [
    "## Next steps and tips\n",
    "\n",
    "- Use `pip install pandas matplotlib` if packages are missing.\n",
    "- Save notebooks often.\n",
    "- Combine explanations (markdown) with short, runnable code cells."
   ]
  },
  {
   "cell_type": "code",
   "execution_count": null,
   "metadata": {},
   "outputs": [],
   "source": [
    "import matplotlib.pyplot as plt\n",
    "plt.bar(df['name'], df['score'])\n",
    "plt.title('Student scores')\n",
    "plt.xlabel('Name')\n",
    "plt.ylabel('Score')\n",
    "plt.ylim(0, 100)\n",
    "plt.show()"
   ]
  },
  {
   "cell_type": "markdown",
   "metadata": {},
   "source": [
    "## matplotlib — quick plot\n",
    "\n",
    "Plot the small DataFrame to visualize scores."
   ]
  },
  {
   "cell_type": "code",
   "execution_count": null,
   "metadata": {},
   "outputs": [],
   "source": [
    "# Basic pandas operations\n",
    "print('Head:')\n",
    "print(df.head())\n",
    "print('\\nDescribe:')\n",
    "print(df.describe())\n",
    "# Filter example\n",
    "print('\\nFilter score >= 80:')\n",
    "print(df[df['score'] >= 80])\n"
   ]
  },
  {
   "cell_type": "code",
   "execution_count": null,
   "metadata": {},
   "outputs": [],
   "source": [
    "import pandas as pd\n",
    "df = pd.DataFrame({'name': ['Aisha', 'Ben', 'Cara'], 'score': [85, 92, 78]})\n",
    "df"
   ]
  },
  {
   "cell_type": "markdown",
   "metadata": {},
   "source": [
    "## pandas — a mini example\n",
    "\n",
    "Create a small DataFrame and perform basic operations."
   ]
  },
  {
   "cell_type": "code",
   "execution_count": null,
   "metadata": {},
   "outputs": [],
   "source": [
    "# Simple print in a notebook\n",
    "print('Hello, Data Science!')"
   ]
  },
  {
   "cell_type": "markdown",
   "metadata": {},
   "source": [
    "## Quick Jupyter demo\n",
    "\n",
    "Run and modify the code cells. Jupyter notebooks let you combine narrative text and code."
   ]
  },
  {
   "cell_type": "markdown",
   "metadata": {},
   "source": [
    "# Lesson 3 — Tools for Data Science\n",
    "\n",
    "This notebook introduces core tools: Jupyter Notebook, pandas, and matplotlib. It contains short examples to get you started."
   ]
  }
 ],
 "metadata": {
  "kernelspec": {
   "display_name": "Python 3",
   "language": "python",
   "name": "python3"
  },
  "language_info": {
   "name": "python",
   "version": "3.8.0"
  }
 },
 "nbformat": 4,
 "nbformat_minor": 4
}

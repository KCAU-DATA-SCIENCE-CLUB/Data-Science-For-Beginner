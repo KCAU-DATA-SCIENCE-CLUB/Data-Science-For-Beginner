{
 "cells": [
  {
   "cell_type": "markdown",
   "metadata": {},
   "source": [
    "# Lesson 1 — What is Data Science?\n",
    "\n",
    "This notebook follows the lesson README. We'll cover: what data science is, the detective-style workflow, and a short mini-project (popularity analysis) with a tiny dataset."
   ]
  },
  {
   "cell_type": "markdown",
   "metadata": {},
   "source": [
    "## Learning goals\n",
    "- Understand what Data Science means in simple terms.\n",
    "- See everyday examples where data science is used.\n",
    "- Walk through the data science workflow (collect → clean → analyze → predict → communicate)."
   ]
  },
  {
   "cell_type": "markdown",
   "metadata": {},
   "source": [
    "## Detective workflow (short)\n",
    "1. Collect clues (data).\n",
    "2. Organize evidence (clean & structure).\n",
    "3. Spot patterns (analyze & visualize).\n",
    "4. Make predictions (models).\n",
    "5. Tell the story (communicate)."
   ]
  },
  {
   "cell_type": "markdown",
   "metadata": {},
   "source": [
    "## Mini-project: Favourite items popularity\n",
    "We'll create a tiny example dataset of favourite items over a few days and answer: 'Which item is most popular?' and 'How do counts change over time?'"
   ]
  },
  {
   "cell_type": "code",
   "execution_count": null,
   "metadata": {},
   "outputs": [],
   "source": [
    "import pandas as pd\n",
    "import matplotlib.pyplot as plt\n",
    "\n",
    "# Example dataset\n",
    "data = {\n",
    "    'date': ['2021-01-01','2021-01-02','2021-01-03','2021-01-04','2021-01-05','2021-01-06'],\n",
    "    'item': ['Chips','Chocolate','Chips','Fruits','Chips','Chocolate']\n",
    "}\n",
    "df = pd.DataFrame(data)\n",
    "df['date'] = pd.to_datetime(df['date'])\n",
    "df.head()"
   ]
  },
  {
   "cell_type": "code",
   "execution_count": null,
   "metadata": {},
   "outputs": [],
   "source": [
    "# Counts and plot\n",
    "counts = df['item'].value_counts().sort_index()\n",
    "print('Counts by item:\n",
    "', counts)\n",
    "\n",
    "# Simple bar plot\n",
    "ax = counts.plot(kind='bar', title='Item popularity')\n",
    "ax.set_xlabel('Item')\n",
    "ax.set_ylabel('Count')\n",
    "plt.show()"
   ]
  },
  {
   "cell_type": "markdown",
   "metadata": {},
   "source": [
    "## Reflection & next steps\n",
    "- Which item appears most often?\n",
    "- How could we expand this dataset to study weekly or monthly trends?\n",
    "- Next: clean a messier dataset (missing values) and visualize multiple features."
   ]
  }
 ],
 "metadata": {
  "kernelspec": {
   "display_name": "Python 3",
   "language": "python",
   "name": "python3"
  },
  "language_info": {
   "name": "python",
   "version": "3.8.0"
  }
 },
 "nbformat": 4,
 "nbformat_minor": 4
}

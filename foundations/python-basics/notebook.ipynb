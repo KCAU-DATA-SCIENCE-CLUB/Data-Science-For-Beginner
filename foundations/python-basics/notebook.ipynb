{
 "cells": [
  {
   "cell_type": "markdown",
   "metadata": {},
   "source": [
    "## Practice exercises\n",
    "1. Store your name and age in variables and print them.\n",
    "2. Create a list of your top 3 hobbies and loop through them.\n",
    "3. Write a function that converts Celsius to Fahrenheit (already above — modify it).\n",
    "4. Use an if/else to decide if someone is allowed to drive (age ≥ 18)."
   ]
  },
  {
   "cell_type": "code",
   "execution_count": null,
   "metadata": {},
   "outputs": [],
   "source": [
    "# Function example: Celsius to Fahrenheit\n",
    "def c_to_f(c):\n",
    "    return (c * 9/5) + 32\n",
    "\n",
    "print(c_to_f(0))  # 32F\n",
    "print(c_to_f(100))  # 212F"
   ]
  },
  {
   "cell_type": "markdown",
   "metadata": {},
   "source": [
    "## Functions\n",
    "\n",
    "Define and use a simple function (e.g., temperature converter)."
   ]
  },
  {
   "cell_type": "code",
   "execution_count": null,
   "metadata": {},
   "outputs": [],
   "source": [
    "# If/else example\n",
    "age = 17\n",
    "if age >= 18:\n",
    "    print('Allowed to drive')\n",
    "else:\n",
    "    print('Not allowed to drive yet')\n",
    "\n",
    "# Loop example\n",
    "hobbies = ['reading', 'coding', 'soccer']\n",
    "for i, h in enumerate(hobbies, 1):\n",
    "    print(f'{i}. {h}')"
   ]
  },
  {
   "cell_type": "markdown",
   "metadata": {},
   "source": [
    "## Control flow: if / loops\n",
    "\n",
    "Examples of if/else and loops useful for dataset processing."
   ]
  },
  {
   "cell_type": "code",
   "execution_count": null,
   "metadata": {},
   "outputs": [],
   "source": [
    "# Arithmetic\n",
    "a = 10\n",
    "b = 3\n",
    "print('Add:', a + b)\n",
    "print('Divide:', a / b)\n",
    "print('Integer divide:', a // b)\n",
    "print('Power:', a ** 2)\n",
    "\n",
    "# Comparison\n",
    "print('a > b?', a > b)\n",
    "print('a == b?', a == b)\n",
    "\n",
    "# Logical\n",
    "print('(a > 5) and (b < 5):', (a > 5) and (b < 5))"
   ]
  },
  {
   "cell_type": "markdown",
   "metadata": {},
   "source": [
    "## Operators and Expressions\n",
    "\n",
    "Try arithmetic and comparison operators."
   ]
  },
  {
   "cell_type": "code",
   "execution_count": null,
   "metadata": {},
   "outputs": [],
   "source": [
    "# Integers and floats\n",
    "age = 25\n",
    "temperature = 23.5\n",
    "name = 'Alex'\n",
    "hobbies = ['reading', 'coding', 'soccer']\n",
    "\n",
    "print(type(age), age)\n",
    "print(type(temperature), temperature)\n",
    "print(type(name), name)\n",
    "print(type(hobbies), hobbies)"
   ]
  },
  {
   "cell_type": "code",
   "execution_count": null,
   "metadata": {
    "vscode": {
     "languageId": "json"
    }
   },
   "outputs": [],
   "source": [
    "## Variables and Data Types\n",
    "\n",
    "Create variables of different types and inspect them."
   ]
  },
  {
   "cell_type": "markdown",
   "metadata": {},
   "source": [
    "# Lesson 2 — Python Basics for Data Science\n",
    "\n",
    "This notebook follows the `README.md` and provides short, hands-on exercises for variables, data types, operators, control flow, and functions. Try each cell and modify the examples."
   ]
  }
 ],
 "metadata": {
  "kernelspec": {
   "display_name": "Python 3",
   "language": "python",
   "name": "python3"
  },
  "language_info": {
   "name": "python",
   "version": "3.8.0"
  }
 },
 "nbformat": 4,
 "nbformat_minor": 4
}

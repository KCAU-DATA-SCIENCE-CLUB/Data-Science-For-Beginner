{
 "cells": [
  {
   "cell_type": "markdown",
   "metadata": {},
   "source": [
    "# Correlation vs Causation\n",
    "\n",
    "This notebook demonstrates the difference between correlation and causation using small synthetic examples.\n",
    "We will: compute correlations, visualize relationships, and show how a confounder can create a spurious correlation."
   ]
  },
  {
   "cell_type": "code",
   "execution_count": null,
   "metadata": {},
   "outputs": [],
   "source": [
    "# Setup: imports\n",
    "import numpy as np\n",
    "import pandas as pd\n",
    "import matplotlib.pyplot as plt\n",
    "import seaborn as sns\n",
    "sns.set_theme(style=\"whitegrid\")\n",
    "%matplotlib inline"
   ]
  },
  {
   "cell_type": "markdown",
   "metadata": {},
   "source": [
    "## Example 1 — Strong correlation (but not necessarily causal)\n",
    "We create two variables `x` and `y` where `y` is linearly related to `x` with noise."
   ]
  },
  {
   "cell_type": "code",
   "execution_count": null,
   "metadata": {},
   "outputs": [],
   "source": [
    "np.random.seed(0)\n",
    "x = np.random.normal(0, 1, 200)\n",
    "y = 2.5 * x + np.random.normal(0, 0.8, size=len(x))\n",
    "df1 = pd.DataFrame({'x': x, 'y': y})\n",
    "print(df1.head())\n",
    "print('Correlation (Pearson):', df1['x'].corr(df1['y']))\n",
    "sns.scatterplot(data=df1, x='x', y='y')\n",
    "plt.title('x vs y (linear relation + noise)')\n",
    "plt.show()"
   ]
  },
  {
   "cell_type": "markdown",
   "metadata": {},
   "source": [
    "## Example 2 — Spurious correlation via confounder\n",
    "We construct `a` and `b` that are both influenced by `c` (a confounder). `a` and `b` will correlate although `a` does not cause `b`."
   ]
  },
  {
   "cell_type": "code",
   "execution_count": null,
   "metadata": {},
   "outputs": [],
   "source": [
    "np.random.seed(1)\n",
    "c = np.random.normal(0, 1, 300)  # confounder\n",
    "a = 1.5 * c + np.random.normal(0, 0.5, size=len(c))\n",
    "b = -2.0 * c + np.random.normal(0, 0.5, size=len(c))\n",
    "df2 = pd.DataFrame({'a': a, 'b': b, 'c': c})\n",
    "print(df2[['a','b','c']].head())\n",
    "print('Corr a vs b:', df2['a'].corr(df2['b']))\n",
    "sns.pairplot(df2[['a','b','c']])\n",
    "plt.suptitle('a, b and confounder c (notice a vs b correlation)')\n",
    "plt.show()"
   ]
  },
  {
   "cell_type": "markdown",
   "metadata": {},
   "source": [
    "### Controlling for the confounder\n",
    "A simple way is to use partial correlation or regress out the confounder. We'll show residuals after regressing out `c`."
   ]
  },
  {
   "cell_type": "code",
   "execution_count": null,
   "metadata": {},
   "outputs": [],
   "source": [
    "import statsmodels.api as sm\n",
    "# regress a on c and b on c, keep residuals\n",
    "model_a = sm.OLS(df2['a'], sm.add_constant(df2['c'])).fit()\n",
    "model_b = sm.OLS(df2['b'], sm.add_constant(df2['c'])).fit()\n",
    "res_a = model_a.resid\n",
    "res_b = model_b.resid\n",
    "print('Corr of residuals (a~c) vs (b~c):', res_a.corr(res_b))\n",
    "sns.scatterplot(x=res_a, y=res_b)\n",
    "plt.title('Residuals after removing effect of c')\n",
    "plt.xlabel('residual a')\n",
    "plt.ylabel('residual b')\n",
    "plt.show()"
   ]
  },
  {
   "cell_type": "markdown",
   "metadata": {},
   "source": [
    "## Key takeaways\n",
    "- Correlation quantifies linear association but does not imply causation.\n",
    "- Confounders can create spurious correlations.\n",
    "- Use domain knowledge and causal methods (experiments, instrumental variables, causal graphs) when making causal claims."
   ]
  }
 ],
 "metadata": {
  "kernelspec": {
   "display_name": "Python 3",
   "language": "python",
   "name": "python3"
  },
  "language_info": {
   "name": "python",
   "version": "3.8.0"
  }
 },
 "nbformat": 4,
 "nbformat_minor": 4
}

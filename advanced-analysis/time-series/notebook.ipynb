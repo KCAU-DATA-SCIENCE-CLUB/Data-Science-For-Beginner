{
 "cells": [
  {
   "cell_type": "markdown",
   "metadata": {},
   "source": [
    "# Time Series Analysis\n",
    "\n",
    "This notebook introduces basic time series operations: datetime indices, resampling, rolling statistics, and seasonal decomposition."
   ]
  },
  {
   "cell_type": "markdown",
   "metadata": {},
   "source": [
    "# Time Series — simplified and explained\n",
    "\n",
    "Goals:\n",
    "- Show how to create a datetime index.\n",
    "- Demonstrate resampling and rolling averages.\n",
    "- Brief seasonal decomposition example."
   ]
  },
  {
   "cell_type": "code",
   "execution_count": null,
   "metadata": {},
   "outputs": [],
   "source": [
    "import pandas as pd\n",
    "import numpy as np\n",
    "import matplotlib.pyplot as plt\n",
    "from statsmodels.tsa.seasonal import seasonal_decompose\n",
    "%matplotlib inline\n",
    "np.random.seed(0)"
   ]
  },
  {
   "cell_type": "markdown",
   "metadata": {},
   "source": [
    "## Create a 1-year daily series (compact)\n",
    "We keep the example to one year so plots are quick and clear for beginners."
   ]
  },
  {
   "cell_type": "code",
   "execution_count": null,
   "metadata": {},
   "outputs": [],
   "source": [
    "rng = pd.date_range('2022-01-01', periods=365, freq='D')\n",
    "trend = np.linspace(0, 2, len(rng))\n",
    "seasonal = 1.5 * np.sin(2 * np.pi * rng.dayofyear / 365)\n",
    "noise = np.random.normal(0, 0.3, len(rng))\n",
    "y = 10 + trend + seasonal + noise\n",
    "ts = pd.Series(y, index=rng, name='value')\n",
    "ts.head()"
   ]
  },
  {
   "cell_type": "code",
   "execution_count": null,
   "metadata": {},
   "outputs": [],
   "source": [
    "# Plot the series (daily)\n",
    "plt.figure(figsize=(10,3))\n",
    "ts.plot()\n",
    "plt.title('Daily time series (1 year)')\n",
    "plt.show()"
   ]
  },
  {
   "cell_type": "markdown",
   "metadata": {},
   "source": [
    "## Resample to monthly and compute a 14-day rolling average\n",
    "Short windows keep things responsive in the notebook."
   ]
  },
  {
   "cell_type": "code",
   "execution_count": null,
   "metadata": {},
   "outputs": [],
   "source": [
    "monthly = ts.resample('M').mean()\n",
    "rolling14 = ts.rolling(window=14, center=True).mean()\n",
    "plt.figure(figsize=(10,3))\n",
    "ts.plot(alpha=0.4, label='daily')\n",
    "rolling14.plot(label='14-day rolling mean')\n",
    "monthly.plot(marker='o', linestyle='--', label='monthly mean')\n",
    "plt.legend()\n",
    "plt.title('Resampling and rolling')\n",
    "plt.show()"
   ]
  },
  {
   "cell_type": "markdown",
   "metadata": {},
   "source": [
    "## Seasonal decomposition (very short)\n",
    "This splits the series into trend, seasonal and residual components. For one-year data, use period=365."
   ]
  },
  {
   "cell_type": "code",
   "execution_count": null,
   "metadata": {},
   "outputs": [],
   "source": [
    "decomp = seasonal_decompose(ts, model='additive', period=365)\n",
    "fig = decomp.plot()\n",
    "fig.set_size_inches(10,6)\n",
    "plt.show()"
   ]
  },
  {
   "cell_type": "markdown",
   "metadata": {},
   "source": [
    "### Quick takeaways\n",
    "- Use datetime indices for time-series operations.\n",
    "- Resample to change the frequency (daily → monthly).\n",
    "- Use rolling windows to smooth short-term noise.\n",
    "- Decomposition helps reveal trend and seasonal patterns."
   ]
  }
 ],
 "metadata": {
  "kernelspec": {
   "display_name": "Python 3",
   "language": "python",
   "name": "python3"
  },
  "language_info": {
   "name": "python",
   "version": "3.8.0"
  }
 },
 "nbformat": 4,
 "nbformat_minor": 4
}

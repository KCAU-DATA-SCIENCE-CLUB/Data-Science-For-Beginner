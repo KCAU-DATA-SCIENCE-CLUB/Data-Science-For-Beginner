{
 "cells": [
  {
   "cell_type": "code",
   "execution_count": null,
   "metadata": {},
   "outputs": [],
   "source": [
    "# Setup\n",
    "import pandas as pd\n",
    "import numpy as np\n",
    "import matplotlib.pyplot as plt\n",
    "import seaborn as sns\n",
    "from sklearn.decomposition import PCA\n",
    "sns.set_theme(style='white')\n",
    "%matplotlib inline"
   ]
  },
  {
   "cell_type": "markdown",
   "metadata": {},
   "source": [
    "## Example dataset: Iris (multivariate, small)\n",
    "We will use the classic Iris dataset to explore relationships across multiple numeric variables."
   ]
  },
  {
   "cell_type": "code",
   "execution_count": null,
   "metadata": {},
   "outputs": [],
   "source": [
    "from sklearn.datasets import load_iris\n",
    "iris = load_iris(as_frame=True)\n",
    "df = iris.frame.copy()\n",
    "df['target_name'] = df['target'].map(dict(enumerate(iris.target_names)))\n",
    "df.head()"
   ]
  },
  {
   "cell_type": "code",
   "execution_count": null,
   "metadata": {},
   "outputs": [],
   "source": [
    "# Pairplot to inspect pairwise relationships (kept small)\n",
    "sns.pairplot(df, vars=iris.feature_names[:3], hue='target_name', corner=True)\n",
    "plt.suptitle('Pairwise plots (Iris features - first 3)')\n",
    "plt.show()"
   ]
  },
  {
   "cell_type": "markdown",
   "metadata": {},
   "source": [
    "## Correlation matrix — keep it short and interpret one value\n",
    "We compute Pearson correlations for the selected features and explain how to read the matrix."
   ]
  },
  {
   "cell_type": "code",
   "execution_count": null,
   "metadata": {},
   "outputs": [],
   "source": [
    "# Select three features to keep visuals clear\n",
    "features = iris.feature_names[:3]\n",
    "df_small = df[features].copy()\n",
    "corr = df_small.corr()\n",
    "print('Correlation matrix:')\n",
    "print(corr)\n",
    "plt.figure(figsize=(5,4))\n",
    "sns.heatmap(corr, annot=True, cmap='coolwarm', vmin=-1, vmax=1)\n",
    "plt.title('Correlation matrix (Pearson)')\n",
    "plt.show()"
   ]
  },
  {
   "cell_type": "markdown",
   "metadata": {},
   "source": [
    "## PCA (very short demo)\n",
    "PCA finds new axes (components) that explain variance. We'll compute two components and plot them to show how dimensionality reduction works (briefly)."
   ]
  },
  {
   "cell_type": "code",
   "execution_count": null,
   "metadata": {},
   "outputs": [],
   "source": [
    "# Basic PCA on the selected features\n",
    "X = df_small.values\n",
    "pca = PCA(n_components=2)\n",
    "Xp = pca.fit_transform(X)\n",
    "plt.figure(figsize=(6,4))\n",
    "plt.scatter(Xp[:,0], Xp[:,1], alpha=0.7)\n",
    "plt.title('PCA (2 components) - simple plot')\n",
    "plt.xlabel('PC1')\n",
    "plt.ylabel('PC2')\n",
    "plt.show()\n",
    "print('Explained variance (2 components):', pca.explained_variance_ratio_)\n",
    "# Short notes for learners\n",
    "print('- Try changing features and re-running the small pipeline to see how results change.')\n",
    "print('- Use PCA to reduce dimensionality only when many features are correlated.')\n",
    "print('- Start with pairwise plots and a correlation matrix to find obvious relationships.')"
   ]
  },
  {
   "cell_type": "markdown",
   "metadata": {},
   "source": [
    "### Final notes\n",
    "- Keep plots and feature counts small for beginners (3–5 features).\n",
    "- Correlation helps spot linear relationships; PCA can summarize correlated variables.\n",
    "- Always interpret components and link back to the original features."
   ]
  }
 ],
 "metadata": {
  "kernelspec": {
   "display_name": "Python 3",
   "language": "python",
   "name": "python3"
  },
  "language_info": {
   "name": "python",
   "version": "3.8.0"
  }
 },
 "nbformat": 4,
 "nbformat_minor": 4
}

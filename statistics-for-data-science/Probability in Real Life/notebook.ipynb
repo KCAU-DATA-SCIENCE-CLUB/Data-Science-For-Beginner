{
 "cells": [
  {
   "cell_type": "markdown",
   "id": "b65f6168",
   "metadata": {},
   "source": [
    "# Probability in Real Life\n",
    "\n",
    "Welcome to the Probability in Real Life module! This notebook demonstrates how probability theory applies to everyday situations and practical data science problems."
   ]
  },
  {
   "cell_type": "markdown",
   "id": "c65b10a0",
   "metadata": {},
   "source": [
    "## Learning Objectives\n",
    "\n",
    "By the end of this notebook, you will be able to:\n",
    "- Apply probability concepts to real-world scenarios\n",
    "- Understand and use conditional probability and Bayes' theorem\n",
    "- Analyze risk and uncertainty in decision making\n",
    "- Solve practical probability problems\n",
    "- Use probability in data science applications"
   ]
  },
  {
   "cell_type": "code",
   "execution_count": null,
   "id": "0f4ba8c1",
   "metadata": {},
   "outputs": [],
   "source": [
    "# Import necessary libraries\n",
    "import numpy as np\n",
    "import pandas as pd\n",
    "import matplotlib.pyplot as plt\n",
    "import seaborn as sns\n",
    "from scipy import stats\n",
    "import itertools\n",
    "from fractions import Fraction\n",
    "\n",
    "# Set random seed for reproducibility\n",
    "np.random.seed(42)\n",
    "\n",
    "# Configure plotting\n",
    "plt.rcParams['figure.figsize'] = (10, 6)\n",
    "sns.set_style(\"whitegrid\")"
   ]
  }
 ],
 "metadata": {
  "language_info": {
   "name": "python"
  }
 },
 "nbformat": 4,
 "nbformat_minor": 5
}

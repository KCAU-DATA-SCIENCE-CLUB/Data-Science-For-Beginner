{
 "cells": [
  {
   "cell_type": "markdown",
   "id": "2a0064b0",
   "metadata": {},
   "source": [
    "# Descriptive Statistics\n",
    "\n",
    "Welcome to the Descriptive Statistics module! This notebook will teach you how to summarize and describe data using statistical measures."
   ]
  },
  {
   "cell_type": "markdown",
   "id": "cd30b83f",
   "metadata": {},
   "source": [
    "## Learning Objectives\n",
    "\n",
    "By the end of this notebook, you will be able to:\n",
    "- Calculate measures of central tendency (mean, median, mode)\n",
    "- Understand measures of variability (variance, standard deviation, IQR)\n",
    "- Analyze data distribution and identify outliers\n",
    "- Create informative summary statistics\n",
    "- Visualize descriptive statistics effectively"
   ]
  },
  {
   "cell_type": "code",
   "execution_count": null,
   "id": "a45b65d0",
   "metadata": {},
   "outputs": [],
   "source": [
    "# Import necessary libraries\n",
    "import numpy as np\n",
    "import pandas as pd\n",
    "import matplotlib.pyplot as plt\n",
    "import seaborn as sns\n",
    "from scipy import stats\n",
    "import warnings\n",
    "warnings.filterwarnings('ignore')\n",
    "\n",
    "# Set random seed for reproducibility\n",
    "np.random.seed(42)\n",
    "\n",
    "# Configure plotting\n",
    "plt.rcParams['figure.figsize'] = (12, 8)\n",
    "sns.set_palette(\"Set2\")"
   ]
  }
 ],
 "metadata": {
  "language_info": {
   "name": "python"
  }
 },
 "nbformat": 4,
 "nbformat_minor": 5
}
